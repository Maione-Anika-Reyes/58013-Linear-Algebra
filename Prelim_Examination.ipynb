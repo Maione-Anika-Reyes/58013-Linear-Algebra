{
  "nbformat": 4,
  "nbformat_minor": 0,
  "metadata": {
    "colab": {
      "provenance": [],
      "authorship_tag": "ABX9TyMUR6j8zV/sz4t9cLx1HoRD",
      "include_colab_link": true
    },
    "kernelspec": {
      "name": "python3",
      "display_name": "Python 3"
    },
    "language_info": {
      "name": "python"
    }
  },
  "cells": [
    {
      "cell_type": "markdown",
      "metadata": {
        "id": "view-in-github",
        "colab_type": "text"
      },
      "source": [
        "<a href=\"https://colab.research.google.com/github/Maione-Anika-Reyes/58013-Linear-Algebra/blob/main/Prelim_Examination.ipynb\" target=\"_parent\"><img src=\"https://colab.research.google.com/assets/colab-badge.svg\" alt=\"Open In Colab\"/></a>"
      ]
    },
    {
      "cell_type": "code",
      "execution_count": 52,
      "metadata": {
        "colab": {
          "base_uri": "https://localhost:8080/"
        },
        "id": "jO2JxFQ_2yj6",
        "outputId": "3c5fb1cb-77ce-44ab-c117-881f99bdcd69"
      },
      "outputs": [
        {
          "output_type": "stream",
          "name": "stdout",
          "text": [
            "[[  2   4   6   8  10  12  14  16  18  20]\n",
            " [  4   8  12  16  20  24  28  32  36  40]\n",
            " [  6  12  18  24  30  36  42  48  54  60]\n",
            " [  8  16  24  32  40  48  56  64  72  80]\n",
            " [ 10  20  30  40  50  60  70  80  90 100]\n",
            " [ 12  24  36  48  60  72  84  96 108 120]\n",
            " [ 14  28  42  56  70  84  98 112 126 140]\n",
            " [ 16  32  48  64  80  96 112 128 144 160]\n",
            " [ 18  36  54  72  90 108 126 144 162 180]\n",
            " [ 20  40  60  80 100 120 140 160 180 200]]\n"
          ]
        }
      ],
      "source": [
        "#Question 1. (20 points) Create a Multiplication Table/Chart of 1 to 10 using numpy/ python program.\n",
        "\n",
        "\n",
        "import numpy as np\n",
        "\n",
        "def mtable(n):\n",
        "    range = np.arange(1, n+1)\n",
        "    return range * range[:, None]\n",
        "\n",
        "print(mtable(10)*2)\n",
        "\n"
      ]
    },
    {
      "cell_type": "code",
      "source": [
        "#Question 2. (10 points) In relation to Question 1, show a solution that doubles all the values of each element.\n",
        "\n",
        "import numpy as np\n",
        "\n",
        "def mtable(n):\n",
        "    range = np.arange(1, n+1)\n",
        "    return range * range[:, None]\n",
        "\n",
        "print(mtable(10)*2)\n",
        "\n"
      ],
      "metadata": {
        "colab": {
          "base_uri": "https://localhost:8080/"
        },
        "id": "oaGfUBI-3P30",
        "outputId": "ef581bf6-ab58-404a-89a5-eee1aafe1409"
      },
      "execution_count": 58,
      "outputs": [
        {
          "output_type": "stream",
          "name": "stdout",
          "text": [
            "[[  2   4   6   8  10  12  14  16  18  20]\n",
            " [  4   8  12  16  20  24  28  32  36  40]\n",
            " [  6  12  18  24  30  36  42  48  54  60]\n",
            " [  8  16  24  32  40  48  56  64  72  80]\n",
            " [ 10  20  30  40  50  60  70  80  90 100]\n",
            " [ 12  24  36  48  60  72  84  96 108 120]\n",
            " [ 14  28  42  56  70  84  98 112 126 140]\n",
            " [ 16  32  48  64  80  96 112 128 144 160]\n",
            " [ 18  36  54  72  90 108 126 144 162 180]\n",
            " [ 20  40  60  80 100 120 140 160 180 200]]\n"
          ]
        }
      ]
    },
    {
      "cell_type": "code",
      "source": [
        "#Question 3. (10 points) Create a square matrix that has a diagonal 1's.\n",
        "\n",
        "import numpy as np\n",
        "\n",
        "A = np.eye(3,3)\n",
        "print(A)\n"
      ],
      "metadata": {
        "colab": {
          "base_uri": "https://localhost:8080/"
        },
        "id": "z3pGYTjz3Qtb",
        "outputId": "cfcbbcf0-990c-4ba0-bb66-11d3e559c0b3"
      },
      "execution_count": 6,
      "outputs": [
        {
          "output_type": "stream",
          "name": "stdout",
          "text": [
            "[[1. 0. 0.]\n",
            " [0. 1. 0.]\n",
            " [0. 0. 1.]]\n"
          ]
        }
      ]
    },
    {
      "cell_type": "code",
      "source": [
        "#Question 4. (30 points) Create a matrix whose elements are:\n",
        "\n",
        "import numpy as np\n",
        "\n",
        "matrix = np.array([[1,2,3,4],\n",
        "                   [5,6,7,8],\n",
        "                   [9,10,11,12]])\n",
        "print(matrix.shape)\n",
        "print(matrix.size)\n",
        "print(matrix.ndim)"
      ],
      "metadata": {
        "colab": {
          "base_uri": "https://localhost:8080/"
        },
        "id": "YGBv7J6U3TUr",
        "outputId": "ab282d25-1466-4875-e80e-e8d545357c7b"
      },
      "execution_count": 57,
      "outputs": [
        {
          "output_type": "stream",
          "name": "stdout",
          "text": [
            "(3, 4)\n",
            "12\n",
            "2\n"
          ]
        }
      ]
    },
    {
      "cell_type": "code",
      "source": [
        "#Question 5. (30 points) Create a result array by adding the following two NumPy arrays. Next, modify the result array by calculating the square of each element.\n",
        "\n",
        "import numpy as np\n",
        "\n",
        "arrayOne = np.array([[5,6,9],[21,18,27]])\n",
        "arrayTwo = np.array([[15,33,24],[4,7,1]])\n",
        "\n",
        "print(\"A + B:\")\n",
        "print(np.add(arrayOne, arrayTwo))\n",
        "\n",
        "c = (arrayOne**2)\n",
        "d = (arrayTwo**2)\n",
        "print(\"\\nSquare of each element: \")\n",
        "print(\"Array One: \\n\",c)\n",
        "print(\"\\nArray Two:\\n\",d)\n"
      ],
      "metadata": {
        "colab": {
          "base_uri": "https://localhost:8080/"
        },
        "id": "FGyCLovC3Vcz",
        "outputId": "b33ff257-d3c7-4764-97ae-3d11045dd9d1"
      },
      "execution_count": 50,
      "outputs": [
        {
          "output_type": "stream",
          "name": "stdout",
          "text": [
            "A + B:\n",
            "[[20 39 33]\n",
            " [25 25 28]]\n",
            "\n",
            "Square of each element: \n",
            "Array One: \n",
            " [[ 25  36  81]\n",
            " [441 324 729]]\n",
            "\n",
            "Array Two:\n",
            " [[ 225 1089  576]\n",
            " [  16   49    1]]\n"
          ]
        }
      ]
    }
  ]
}