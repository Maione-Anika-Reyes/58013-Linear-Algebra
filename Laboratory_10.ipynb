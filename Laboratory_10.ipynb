{
  "nbformat": 4,
  "nbformat_minor": 0,
  "metadata": {
    "colab": {
      "provenance": [],
      "authorship_tag": "ABX9TyOg9n2jGYHVUuHN6dGKwhJg",
      "include_colab_link": true
    },
    "kernelspec": {
      "name": "python3",
      "display_name": "Python 3"
    },
    "language_info": {
      "name": "python"
    }
  },
  "cells": [
    {
      "cell_type": "markdown",
      "metadata": {
        "id": "view-in-github",
        "colab_type": "text"
      },
      "source": [
        "<a href=\"https://colab.research.google.com/github/Maione-Anika-Reyes/58013-Linear-Algebra/blob/main/Laboratory_10.ipynb\" target=\"_parent\"><img src=\"https://colab.research.google.com/assets/colab-badge.svg\" alt=\"Open In Colab\"/></a>"
      ]
    },
    {
      "cell_type": "code",
      "execution_count": 1,
      "metadata": {
        "colab": {
          "base_uri": "https://localhost:8080/"
        },
        "id": "0OMDgXxCzRe6",
        "outputId": "344d32bf-a678-4efe-b889-be560bd4542c"
      },
      "outputs": [
        {
          "output_type": "stream",
          "name": "stdout",
          "text": [
            "[[ 1.  1.  1.]\n",
            " [ 3. -2. -1.]\n",
            " [-1.  4.  2.]]\n",
            "\n",
            " (3, 3)\n",
            "\n",
            " [[ 1.]\n",
            " [ 4.]\n",
            " [-3.]]\n",
            "\n",
            " (3, 1)\n"
          ]
        }
      ],
      "source": [
        "import numpy as np\n",
        "\n",
        "X = np.array([[1,1,1],\n",
        "              [3,-2,-1],\n",
        "              [-1,4,2]], dtype=float)\n",
        "\n",
        "Y = np.array([[1],\n",
        "              [4],\n",
        "              [-3]],dtype=float)\n",
        "\n",
        "print(X)\n",
        "print(\"\\n\",X.shape)\n",
        "print(\"\\n\",Y)\n",
        "print(\"\\n\",Y.shape)"
      ]
    },
    {
      "cell_type": "markdown",
      "source": [
        "Coding Activity 10"
      ],
      "metadata": {
        "id": "OMOvGARv1eEA"
      }
    },
    {
      "cell_type": "code",
      "source": [
        "#Create a python program to solve for the price of flour per sack, yeast per pack,\n",
        "#and one piece of egg.\n",
        "\n",
        "from sympy import symbols, Eq, solve\n",
        "\n",
        "x, y, z = symbols('x y z')\n",
        "\n",
        "eq1 = Eq(30*x + 10*y + 120*z, 12500)\n",
        "eq2 = Eq(40*x + 20*y + 200*z, 18000)\n",
        "eq3 = Eq(50*x + 40*y + 360*z, 25700)\n",
        "\n",
        "soln = solve((eq1, eq2, eq3), (x, y, z))\n",
        "\n",
        "flour = soln[x]\n",
        "yeast = soln[y]\n",
        "egg = soln[z]\n",
        "\n",
        "print(\"Price per sack of flour:\",(flour),\"pesos\")\n",
        "print(\"Price per pack of yeast:\",(yeast),\"pesos\")\n",
        "print(\"Price per egg:\",(egg),\"pesos\")"
      ],
      "metadata": {
        "colab": {
          "base_uri": "https://localhost:8080/"
        },
        "id": "hpA6y1Dp1dbB",
        "outputId": "73e9f19d-92f9-46e9-e59e-bf8f573f3d73"
      },
      "execution_count": 9,
      "outputs": [
        {
          "output_type": "stream",
          "name": "stdout",
          "text": [
            "Price per sack of flour: 330 pesos\n",
            "Price per pack of yeast: 140 pesos\n",
            "Price per egg: 10 pesos\n"
          ]
        }
      ]
    }
  ]
}