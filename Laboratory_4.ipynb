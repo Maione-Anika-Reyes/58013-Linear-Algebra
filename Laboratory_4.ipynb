{
  "nbformat": 4,
  "nbformat_minor": 0,
  "metadata": {
    "colab": {
      "provenance": [],
      "authorship_tag": "ABX9TyPVgIW76gaqTN/cKNkUrVHE",
      "include_colab_link": true
    },
    "kernelspec": {
      "name": "python3",
      "display_name": "Python 3"
    },
    "language_info": {
      "name": "python"
    }
  },
  "cells": [
    {
      "cell_type": "markdown",
      "metadata": {
        "id": "view-in-github",
        "colab_type": "text"
      },
      "source": [
        "<a href=\"https://colab.research.google.com/github/Maione-Anika-Reyes/58013-Linear-Algebra/blob/main/Laboratory_4.ipynb\" target=\"_parent\"><img src=\"https://colab.research.google.com/assets/colab-badge.svg\" alt=\"Open In Colab\"/></a>"
      ]
    },
    {
      "cell_type": "code",
      "execution_count": 1,
      "metadata": {
        "colab": {
          "base_uri": "https://localhost:8080/"
        },
        "id": "FIxeeqyQzQ62",
        "outputId": "1410a1cb-fa19-45d9-dd32-e19c640fbe3a"
      },
      "outputs": [
        {
          "output_type": "stream",
          "name": "stdout",
          "text": [
            "Vector Addition,(a+b+c):\n",
            " 1.0\n",
            "\n",
            "Vector Subtraction,(a-c):\n",
            " [-0.2  2.2  0.9]\n",
            "\n",
            "Vector Multiplication,(a*b):\n",
            " [ 0.08  0.86 -0.6 ]\n",
            "\n",
            "Vector Division,(b/c):\n",
            " [1 0 0]\n"
          ]
        }
      ],
      "source": [
        "import numpy as np\n",
        "\n",
        "a = np.array([-0.4, 4.3, -0.6])\n",
        "b = np.array([-0.2, 0.2, 1])\n",
        "c = np.array([-0.2, 2.1, -1.5])\n",
        "\n",
        "a+b+c\n",
        "np.add(a,np.add(b,c))\n",
        "\n",
        "a-c\n",
        "np.subtract(a,c)\n",
        "\n",
        "a*b\n",
        "np.multiply(a,b)\n",
        "\n",
        "b//c\n",
        "np.divide(b,c)\n",
        "\n",
        "print(\"Vector Addition,(a+b+c):\\n\",np.sum(b))\n",
        "print(\"\\nVector Subtraction,(a-c):\\n\",np.subtract(a,c))\n",
        "print(\"\\nVector Multiplication,(a*b):\\n\",np.multiply(a,b))\n",
        "print(\"\\nVector Division,(b/c):\\n\",np.array(b/c,dtype=int))\n"
      ]
    }
  ]
}