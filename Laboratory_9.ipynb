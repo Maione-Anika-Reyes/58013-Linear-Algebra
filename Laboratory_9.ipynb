{
  "nbformat": 4,
  "nbformat_minor": 0,
  "metadata": {
    "colab": {
      "provenance": [],
      "authorship_tag": "ABX9TyPYQFbI6ReEGyX2awnTolYO",
      "include_colab_link": true
    },
    "kernelspec": {
      "name": "python3",
      "display_name": "Python 3"
    },
    "language_info": {
      "name": "python"
    }
  },
  "cells": [
    {
      "cell_type": "markdown",
      "metadata": {
        "id": "view-in-github",
        "colab_type": "text"
      },
      "source": [
        "<a href=\"https://colab.research.google.com/github/Maione-Anika-Reyes/58013-Linear-Algebra/blob/main/Laboratory_9.ipynb\" target=\"_parent\"><img src=\"https://colab.research.google.com/assets/colab-badge.svg\" alt=\"Open In Colab\"/></a>"
      ]
    },
    {
      "cell_type": "code",
      "execution_count": 1,
      "metadata": {
        "colab": {
          "base_uri": "https://localhost:8080/"
        },
        "id": "s9XR3S2Us1mf",
        "outputId": "54bb04cc-02c5-4bea-b47c-4c42c4d13aa5"
      },
      "outputs": [
        {
          "output_type": "execute_result",
          "data": {
            "text/plain": [
              "-235.0000000000002"
            ]
          },
          "metadata": {},
          "execution_count": 1
        }
      ],
      "source": [
        "import numpy as np\n",
        "import matplotlib.pyplot as plt\n",
        "%matplotlib inline\n",
        "\n",
        "A = np.array([[1,4],\n",
        "              [0,3]])\n",
        "\n",
        "np.linalg.det(A)\n",
        "\n",
        "## Now other mathematics classes would require you to solve this by hand,\n",
        "## and that is great for practicing your memorization and coordination skills\n",
        "## but in this class we aim for simplicity and speed so we'll use programming\n",
        "## but it's completely fine if you want to try to solve this one by hand.\n",
        "B = np.array([[1,3,5,6],\n",
        "              [0,3,1,3],\n",
        "              [3,1,8,2],\n",
        "              [5,2,6,8]])\n",
        "np.linalg.det(B)\n"
      ]
    },
    {
      "cell_type": "markdown",
      "source": [
        "Associative Property"
      ],
      "metadata": {
        "id": "D32wxrqLyxOx"
      }
    },
    {
      "cell_type": "code",
      "source": [
        "#Associative Property\n",
        "\n",
        "import numpy as np\n",
        "\n",
        "a = np.array([[0,3,1],\n",
        "              [6,1,2],\n",
        "              [3,2,0]])\n",
        "\n",
        "b = np.array([[1,2,1],\n",
        "              [7,2,0],\n",
        "              [2,3,6]])\n",
        "\n",
        "c = np.array([[1,5,0],\n",
        "              [3,6,9],\n",
        "              [2,4,6]])\n",
        "\n",
        "Assoc1 = np.dot(np.dot(a,b),c)\n",
        "Assoc2 = np.dot(a, np.dot(b,c))\n",
        "print(\"Associative Property: \\n\")\n",
        "print(\"Result 1:\\n\",Assoc1)\n",
        "print(\"Result 2:\\n\",Assoc2)"
      ],
      "metadata": {
        "colab": {
          "base_uri": "https://localhost:8080/"
        },
        "id": "CMRuDxNLwiQd",
        "outputId": "98f098fd-8aaf-46ec-cbaf-fe9e3fe03f3f"
      },
      "execution_count": 2,
      "outputs": [
        {
          "output_type": "stream",
          "name": "stdout",
          "text": [
            "Associative Property: \n",
            "\n",
            "Result 1:\n",
            " [[ 62 193 117]\n",
            " [113 277 288]\n",
            " [ 53 157 108]]\n",
            "Result 2:\n",
            " [[ 62 193 117]\n",
            " [113 277 288]\n",
            " [ 53 157 108]]\n"
          ]
        }
      ]
    },
    {
      "cell_type": "markdown",
      "source": [
        "Distributive Property"
      ],
      "metadata": {
        "id": "WQZ1KoJ2yz0B"
      }
    },
    {
      "cell_type": "code",
      "source": [
        "#Distributive Property\n",
        "\n",
        "import numpy as np\n",
        "\n",
        "a = np.array([[0,3,1],\n",
        "              [6,1,2],\n",
        "              [5,7,9]])\n",
        "\n",
        "b = np.array([[1,2,1],\n",
        "              [7,2,0],\n",
        "              [2,3,6]])\n",
        "\n",
        "c = np.array([[1,5,0],\n",
        "              [3,6,9],\n",
        "              [2,4,6]])\n",
        "\n",
        "dstrb1 = np.dot(a,b,+c)\n",
        "dstrb2 = np.dot(a,b) + np.dot(a,c)\n",
        "\n",
        "print(\"Distributive Property\\n\")\n",
        "print(\"Result 1: \\n\",dstrb1)\n",
        "print(\"Result 2: \\n\",dstrb2)\n"
      ],
      "metadata": {
        "colab": {
          "base_uri": "https://localhost:8080/"
        },
        "id": "timPGoAPwnT6",
        "outputId": "2e88befd-1c01-4b12-fdc1-99dd4241e0d5"
      },
      "execution_count": 3,
      "outputs": [
        {
          "output_type": "stream",
          "name": "stdout",
          "text": [
            "Distributive Property\n",
            "\n",
            "Result 1: \n",
            " [[23  9  6]\n",
            " [17 20 18]\n",
            " [72 51 59]]\n",
            "Result 2: \n",
            " [[ 34  31  39]\n",
            " [ 30  64  39]\n",
            " [116 154 176]]\n"
          ]
        }
      ]
    },
    {
      "cell_type": "markdown",
      "source": [
        "Scalar"
      ],
      "metadata": {
        "id": "vEwKb3EMy1sz"
      }
    },
    {
      "cell_type": "code",
      "source": [
        "#Scalar\n",
        "\n",
        "import numpy as np\n",
        "\n",
        "a = np.array([[0,3,1],\n",
        "              [6,1,2],\n",
        "              [5,7,9]])\n",
        "\n",
        "b = np.array([[1,2,1],\n",
        "              [7,2,0],\n",
        "              [2,3,6]])\n",
        "\n",
        "c = 6\n",
        "\n",
        "s1 = c * np.dot(a,b)\n",
        "s2 = np.dot(c * a,b)\n",
        "\n",
        "print(\"Scalar:\\n\")\n",
        "print(\"Result 1:\\n\",s1)\n",
        "print(\"Result 2:\\n\",s2)"
      ],
      "metadata": {
        "colab": {
          "base_uri": "https://localhost:8080/"
        },
        "id": "GZXK_JZUwpu7",
        "outputId": "9a1d2a34-a883-48b2-a66a-75ae3f00cd79"
      },
      "execution_count": 6,
      "outputs": [
        {
          "output_type": "stream",
          "name": "stdout",
          "text": [
            "Scalar:\n",
            "\n",
            "Result 1:\n",
            " [[138  54  36]\n",
            " [102 120 108]\n",
            " [432 306 354]]\n",
            "Result 2:\n",
            " [[138  54  36]\n",
            " [102 120 108]\n",
            " [432 306 354]]\n"
          ]
        }
      ]
    },
    {
      "cell_type": "markdown",
      "source": [
        "Commutative Property"
      ],
      "metadata": {
        "id": "clXI6Kxcy30C"
      }
    },
    {
      "cell_type": "code",
      "source": [
        "#Commutative Property\n",
        "\n",
        "import numpy as np\n",
        "\n",
        "a = np.array([[0,3,0],\n",
        "              [2,2,2],\n",
        "              [1,3,1]])\n",
        "\n",
        "b = np.array([[4,0,3],\n",
        "              [1,1,1],\n",
        "              [0,3,2]])\n",
        "\n",
        "c1 = np.dot(a,b)\n",
        "c2 = np.dot(b,a)\n",
        "\n",
        "print(\"Commutative Property:\\n\")\n",
        "print(\"Result 1:\\n\",c1)\n",
        "print(\"Result 2:\\n\",c2)"
      ],
      "metadata": {
        "colab": {
          "base_uri": "https://localhost:8080/"
        },
        "id": "9DXd3rVGxQDT",
        "outputId": "a44f8e17-9be0-428e-a00a-96a0917c8fce"
      },
      "execution_count": 7,
      "outputs": [
        {
          "output_type": "stream",
          "name": "stdout",
          "text": [
            "Commutative Property:\n",
            "\n",
            "Result 1:\n",
            " [[ 3  3  3]\n",
            " [10  8 12]\n",
            " [ 7  6  8]]\n",
            "Result 2:\n",
            " [[ 3 21  3]\n",
            " [ 3  8  3]\n",
            " [ 8 12  8]]\n"
          ]
        }
      ]
    },
    {
      "cell_type": "markdown",
      "source": [
        "Identity Matrix"
      ],
      "metadata": {
        "id": "-dVU-aLyy6Jh"
      }
    },
    {
      "cell_type": "code",
      "source": [
        "#Identity Matrix\n",
        "\n",
        "import numpy as np\n",
        "\n",
        "a = np.array([[0,3,0],\n",
        "              [2,2,2],\n",
        "              [1,3,1]])\n",
        "\n",
        "i = np.identity(3)\n",
        "IM = np.dot(i,a)\n",
        "\n",
        "print(\"Identity Matrix:\\n\",IM)"
      ],
      "metadata": {
        "colab": {
          "base_uri": "https://localhost:8080/"
        },
        "id": "czGWbRfTx7kh",
        "outputId": "00641694-0b95-4269-de36-b33686bd5dec"
      },
      "execution_count": 9,
      "outputs": [
        {
          "output_type": "stream",
          "name": "stdout",
          "text": [
            "Identity Matrix:\n",
            " [[0. 3. 0.]\n",
            " [2. 2. 2.]\n",
            " [1. 3. 1.]]\n"
          ]
        }
      ]
    },
    {
      "cell_type": "markdown",
      "source": [
        "Zero Matrix"
      ],
      "metadata": {
        "id": "4JUiOYDBy94x"
      }
    },
    {
      "cell_type": "code",
      "source": [
        "#Zero Matrix\n",
        "\n",
        "import numpy as np\n",
        "\n",
        "a = np.array([[0,3,0],\n",
        "              [2,2,2],\n",
        "              [1,3,1]])\n",
        "\n",
        "z = np.zeros((3,3))\n",
        "zm = np.dot(z,a)\n",
        "\n",
        "print(\"Zero Matrix:\\n\",z)"
      ],
      "metadata": {
        "colab": {
          "base_uri": "https://localhost:8080/"
        },
        "id": "Y7gbnDFHycLi",
        "outputId": "53078697-0a78-4aee-c92a-5404bfe54972"
      },
      "execution_count": 10,
      "outputs": [
        {
          "output_type": "stream",
          "name": "stdout",
          "text": [
            "Zero Matrix:\n",
            " [[0. 0. 0.]\n",
            " [0. 0. 0.]\n",
            " [0. 0. 0.]]\n"
          ]
        }
      ]
    }
  ]
}