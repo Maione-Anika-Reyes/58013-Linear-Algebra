{
  "nbformat": 4,
  "nbformat_minor": 0,
  "metadata": {
    "colab": {
      "provenance": [],
      "authorship_tag": "ABX9TyOvnCz/v16SYAnqrYMS49IP",
      "include_colab_link": true
    },
    "kernelspec": {
      "name": "python3",
      "display_name": "Python 3"
    },
    "language_info": {
      "name": "python"
    }
  },
  "cells": [
    {
      "cell_type": "markdown",
      "metadata": {
        "id": "view-in-github",
        "colab_type": "text"
      },
      "source": [
        "<a href=\"https://colab.research.google.com/github/Maione-Anika-Reyes/58013-Linear-Algebra/blob/main/Long_Quiz_1.ipynb\" target=\"_parent\"><img src=\"https://colab.research.google.com/assets/colab-badge.svg\" alt=\"Open In Colab\"/></a>"
      ]
    },
    {
      "cell_type": "markdown",
      "source": [
        "Problem 1:"
      ],
      "metadata": {
        "id": "Fog4A1gu3vlV"
      }
    },
    {
      "cell_type": "code",
      "execution_count": 12,
      "metadata": {
        "colab": {
          "base_uri": "https://localhost:8080/"
        },
        "id": "5MvRAcWgzyeT",
        "outputId": "c73d7559-34fe-472d-8c87-61a8f2faffb2"
      },
      "outputs": [
        {
          "output_type": "stream",
          "name": "stdout",
          "text": [
            "a.AB:\n",
            "[[22 28]\n",
            " [49 64]]\n",
            "\n",
            "b.D + D:\n",
            "[[2 4]\n",
            " [6 8]]\n",
            "\n",
            "c.2C:\n",
            "[[ 2  4  6]\n",
            " [ 8 10 12]\n",
            " [14 16 18]]\n"
          ]
        }
      ],
      "source": [
        "#1\n",
        "\n",
        "import numpy as np\n",
        "a = np.array([[1,2,3],\n",
        "              [4,5,6]])\n",
        "\n",
        "b = np.array([[1,2],\n",
        "              [3,4],\n",
        "              [5,6]])\n",
        "\n",
        "c = np.array([[1,2,3],\n",
        "              [4,5,6],\n",
        "              [7,8,9]])\n",
        "\n",
        "d = np.array([[1,2],\n",
        "              [3,4]])\n",
        "\n",
        "print('a.AB:')\n",
        "print(np.dot(a,b))\n",
        "\n",
        "print('\\nb.D + D:')\n",
        "print(np.add(d,d))\n",
        "\n",
        "print('\\nc.2C:')\n",
        "print(2*c)"
      ]
    },
    {
      "cell_type": "markdown",
      "source": [
        "Problem 2:"
      ],
      "metadata": {
        "id": "Z2YrzsBZ3sS3"
      }
    },
    {
      "cell_type": "code",
      "source": [
        "#2\n",
        "\n",
        "import numpy as np\n",
        "\n",
        "a = np.array([2, 7, 4])\n",
        "b = np.array([3, 9, 8])\n",
        "\n",
        "print(\"A • B: \")\n",
        "print(np.cross(a,b))"
      ],
      "metadata": {
        "colab": {
          "base_uri": "https://localhost:8080/"
        },
        "id": "Uf-ALkCs3ASP",
        "outputId": "b98fb5fa-bc14-48ae-f5c6-912f0010281b"
      },
      "execution_count": 11,
      "outputs": [
        {
          "output_type": "stream",
          "name": "stdout",
          "text": [
            "A • B: \n",
            "[20 -4 -3]\n"
          ]
        }
      ]
    }
  ]
}