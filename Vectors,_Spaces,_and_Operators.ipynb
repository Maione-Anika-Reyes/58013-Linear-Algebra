{
  "nbformat": 4,
  "nbformat_minor": 0,
  "metadata": {
    "colab": {
      "provenance": [],
      "authorship_tag": "ABX9TyPUo/tAOcG9gpm28oGJTRUQ",
      "include_colab_link": true
    },
    "kernelspec": {
      "name": "python3",
      "display_name": "Python 3"
    },
    "language_info": {
      "name": "python"
    }
  },
  "cells": [
    {
      "cell_type": "markdown",
      "metadata": {
        "id": "view-in-github",
        "colab_type": "text"
      },
      "source": [
        "<a href=\"https://colab.research.google.com/github/Maione-Anika-Reyes/58013-Linear-Algebra/blob/main/Vectors%2C_Spaces%2C_and_Operators.ipynb\" target=\"_parent\"><img src=\"https://colab.research.google.com/assets/colab-badge.svg\" alt=\"Open In Colab\"/></a>"
      ]
    },
    {
      "cell_type": "code",
      "source": [
        "#Size Dimension, Size\n",
        "\n",
        "import numpy as np\n",
        "ball1 = np.array([1,2,3])\n",
        "ball2=np.array([0,1,-1])\n",
        "print(ball1)\n",
        "print(ball2)\n",
        "\n",
        "#ball = np.shape([[ball1],[ball2]])\n",
        "ball=np.shape(ball1)\n",
        "balls=np.shape(ball2)\n",
        "z=ball+balls\n",
        "print(z)"
      ],
      "metadata": {
        "colab": {
          "base_uri": "https://localhost:8080/"
        },
        "id": "vug3hcDmkC8z",
        "outputId": "33b9e052-3203-4a41-a9d8-63df4cba5447"
      },
      "execution_count": 7,
      "outputs": [
        {
          "output_type": "stream",
          "name": "stdout",
          "text": [
            "[1 2 3]\n",
            "[ 0  1 -1]\n",
            "(3, 3)\n"
          ]
        }
      ]
    },
    {
      "cell_type": "code",
      "source": [
        "#addition\n",
        "\n",
        "import numpy as np\n",
        "a=np.array([4,3])\n",
        "b=np.array([2,-5])\n",
        "r=a+b\n",
        "print(r)"
      ],
      "metadata": {
        "colab": {
          "base_uri": "https://localhost:8080/"
        },
        "id": "7evab1zztMQk",
        "outputId": "4d768c6a-7f1f-4a3d-f120-720eaf2d67f2"
      },
      "execution_count": 12,
      "outputs": [
        {
          "output_type": "stream",
          "name": "stdout",
          "text": [
            "[ 6 -2]\n"
          ]
        }
      ]
    },
    {
      "cell_type": "code",
      "source": [
        "#subtraction\n",
        "\n",
        "import numpy as np\n",
        "r1=np.subtract(a,b)\n",
        "print(r1)\n",
        "r2=np.subtract(b,a)\n",
        "print(r2)"
      ],
      "metadata": {
        "colab": {
          "base_uri": "https://localhost:8080/"
        },
        "id": "bPdw4S5PtyPM",
        "outputId": "88cb9037-d201-46d7-b9b2-1ffd5b401825"
      },
      "execution_count": 15,
      "outputs": [
        {
          "output_type": "stream",
          "name": "stdout",
          "text": [
            "[2 8]\n",
            "[-2 -8]\n"
          ]
        }
      ]
    },
    {
      "cell_type": "code",
      "source": [
        "from numpy.core import arrayprint\n",
        "#scalar product\n",
        "\n",
        "s = np.array([2])\n",
        "v = s*a\n",
        "print(v)"
      ],
      "metadata": {
        "colab": {
          "base_uri": "https://localhost:8080/"
        },
        "id": "24c-xB_Ju5XY",
        "outputId": "6bd8fba2-879a-40e2-b1b9-782ddaadf31c"
      },
      "execution_count": 16,
      "outputs": [
        {
          "output_type": "stream",
          "name": "stdout",
          "text": [
            "[8 6]\n"
          ]
        }
      ]
    },
    {
      "cell_type": "code",
      "source": [
        "#dot product\n",
        "\n",
        "import numpy as np\n",
        "a = np.array([4,3])\n",
        "b = np.array([[2],[-5]])\n",
        "print(b*a)"
      ],
      "metadata": {
        "colab": {
          "base_uri": "https://localhost:8080/"
        },
        "id": "lrO5Fp1LvecK",
        "outputId": "5f10560c-a505-4b8e-d318-a39005195277"
      },
      "execution_count": 18,
      "outputs": [
        {
          "output_type": "stream",
          "name": "stdout",
          "text": [
            "[[  8   6]\n",
            " [-20 -15]]\n"
          ]
        }
      ]
    },
    {
      "cell_type": "code",
      "source": [
        "#property of matrix\n",
        "\n",
        "#identity matrix\n",
        "c = np.eye(3,3)\n",
        "print(c)\n",
        "\n",
        "#zero matrix\n",
        "d = np.zeros([5,5],)\n",
        "print(\"\\n\",d)\n",
        "\n",
        "#full matrix\n",
        "e = np.full([3,3],7)\n",
        "print(\"\\n\",e)\n",
        "\n",
        "#transpose matrix\n",
        "f = np.transpose(a)\n",
        "print(\"\\n\",f)\n",
        "\n",
        "#empty matrix\n",
        "c = np.empty([2,2])\n",
        "print(\"\\n\",c)"
      ],
      "metadata": {
        "colab": {
          "base_uri": "https://localhost:8080/"
        },
        "id": "ywqcxPUAzOMm",
        "outputId": "bde19452-564f-4cb7-8d0c-9a42afc5f873"
      },
      "execution_count": 33,
      "outputs": [
        {
          "output_type": "stream",
          "name": "stdout",
          "text": [
            "[[1. 0. 0.]\n",
            " [0. 1. 0.]\n",
            " [0. 0. 1.]]\n",
            "\n",
            " [[0. 0. 0. 0. 0.]\n",
            " [0. 0. 0. 0. 0.]\n",
            " [0. 0. 0. 0. 0.]\n",
            " [0. 0. 0. 0. 0.]\n",
            " [0. 0. 0. 0. 0.]]\n",
            "\n",
            " [[7 7 7]\n",
            " [7 7 7]\n",
            " [7 7 7]]\n",
            "\n",
            " [4 3]\n",
            "\n",
            " [[1. 0.]\n",
            " [0. 1.]]\n"
          ]
        }
      ]
    }
  ]
}