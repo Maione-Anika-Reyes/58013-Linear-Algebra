{
  "nbformat": 4,
  "nbformat_minor": 0,
  "metadata": {
    "colab": {
      "provenance": [],
      "authorship_tag": "ABX9TyPq9F9QgJHo/mJauGO7d+Uj",
      "include_colab_link": true
    },
    "kernelspec": {
      "name": "python3",
      "display_name": "Python 3"
    },
    "language_info": {
      "name": "python"
    }
  },
  "cells": [
    {
      "cell_type": "markdown",
      "metadata": {
        "id": "view-in-github",
        "colab_type": "text"
      },
      "source": [
        "<a href=\"https://colab.research.google.com/github/Maione-Anika-Reyes/58013-Linear-Algebra/blob/main/PythonExercise1.ipynb\" target=\"_parent\"><img src=\"https://colab.research.google.com/assets/colab-badge.svg\" alt=\"Open In Colab\"/></a>"
      ]
    },
    {
      "cell_type": "markdown",
      "source": [
        "A. Variable and Data Types\n",
        "\n"
      ],
      "metadata": {
        "id": "lgUcqAIyqAJn"
      }
    },
    {
      "cell_type": "code",
      "execution_count": 1,
      "metadata": {
        "colab": {
          "base_uri": "https://localhost:8080/"
        },
        "id": "q7ePqViVovWl",
        "outputId": "a9ad8647-b220-4b44-f5b8-7595925d3087"
      },
      "outputs": [
        {
          "output_type": "execute_result",
          "data": {
            "text/plain": [
              "0"
            ]
          },
          "metadata": {},
          "execution_count": 1
        }
      ],
      "source": [
        "x =1\n",
        "a,b = 0,-1\n",
        "\n",
        "type(x)\n",
        "\n",
        "y=1.0\n",
        "type(y)\n",
        "\n",
        "x=float(x)\n",
        "type(x)\n",
        "\n",
        "s,t,u='0','1','one'\n",
        "type(s)\n",
        "\n",
        "s_int = int(s)\n",
        "s_int"
      ]
    },
    {
      "cell_type": "markdown",
      "source": [
        "B. Arithmetic Operations"
      ],
      "metadata": {
        "id": "p3zrgOg8qIaD"
      }
    },
    {
      "cell_type": "code",
      "source": [
        "a,b,c,d = 2.0, -0.5, 0, -32\n",
        "\n",
        "#Addition\n",
        "S = a+b\n",
        "S\n",
        "\n",
        "#Subtraction\n",
        "D = b-d\n",
        "D\n",
        "\n",
        "#Multiplication\n",
        "P = a*d\n",
        "P\n",
        "\n",
        "#Division\n",
        "Q = c/a\n",
        "Q\n",
        "\n",
        "#Exponentiation\n",
        "E = a**b\n",
        "E\n",
        "\n",
        "#Modulo\n",
        "mod = d%a\n",
        "mod\n"
      ],
      "metadata": {
        "colab": {
          "base_uri": "https://localhost:8080/"
        },
        "id": "tbqeNTieqOZt",
        "outputId": "1e2dfe9c-081e-423e-923f-929bd6db56e8"
      },
      "execution_count": 3,
      "outputs": [
        {
          "output_type": "execute_result",
          "data": {
            "text/plain": [
              "0.0"
            ]
          },
          "metadata": {},
          "execution_count": 3
        }
      ]
    },
    {
      "cell_type": "markdown",
      "source": [
        "C. Assignment Operations"
      ],
      "metadata": {
        "id": "A9LSQ6eNqg9n"
      }
    },
    {
      "cell_type": "code",
      "source": [
        "G, H, J, K = 0, 100, 2, 2\n",
        "\n",
        "G += a\n",
        "G\n",
        "\n",
        "H -= d\n",
        "\n",
        "J *= 2\n",
        "J\n",
        "\n",
        "K **= 2\n",
        "K"
      ],
      "metadata": {
        "colab": {
          "base_uri": "https://localhost:8080/"
        },
        "id": "thwvKuf-qYdb",
        "outputId": "62bfb2a1-0bd9-4bcc-eee7-74eceff596fc"
      },
      "execution_count": 4,
      "outputs": [
        {
          "output_type": "execute_result",
          "data": {
            "text/plain": [
              "4"
            ]
          },
          "metadata": {},
          "execution_count": 4
        }
      ]
    },
    {
      "cell_type": "markdown",
      "source": [
        "D. Comparators"
      ],
      "metadata": {
        "id": "Zm7-Yn1Sqr0z"
      }
    },
    {
      "cell_type": "code",
      "source": [
        "res_1, res_2, res_3 = 1, 2.0, \"1\"\n",
        "true_val = 1.0\n",
        "\n",
        "## Equality\n",
        "res_1 == true_val\n",
        "## Non-equality\n",
        "res_2 != true_val\n",
        "\n",
        "## Inequality\n",
        "t1 = res_1 > res_2\n",
        "t2 = res_1 < res_2/2\n",
        "t3 = res_1 >= res_2/2\n",
        "t4 = res_1 <= res_2\n",
        "t1\n"
      ],
      "metadata": {
        "colab": {
          "base_uri": "https://localhost:8080/"
        },
        "id": "_4t5p_ZJquJQ",
        "outputId": "8e89d1f6-df27-4bda-cacd-bb20655d0255"
      },
      "execution_count": 5,
      "outputs": [
        {
          "output_type": "execute_result",
          "data": {
            "text/plain": [
              "False"
            ]
          },
          "metadata": {},
          "execution_count": 5
        }
      ]
    },
    {
      "cell_type": "markdown",
      "source": [
        "E. Logical"
      ],
      "metadata": {
        "id": "UTcfjWn3q0yj"
      }
    },
    {
      "cell_type": "code",
      "source": [
        "res_1 == true_val\n",
        "\n",
        "res_1 is true_val\n",
        "\n",
        "res_1 is not true_val\n",
        "\n",
        "p, q = True, False\n",
        "conj = p and q\n",
        "conj\n",
        "\n",
        "p, q = True, False\n",
        "disj = p or q\n",
        "disj\n",
        "\n",
        "\n",
        "p, q = True, False\n",
        "nand = not(p and q)\n",
        "nand\n",
        "\n",
        "p, q = True, False\n",
        "xor = (not p and q) or (p and not q)\n",
        "xor\n"
      ],
      "metadata": {
        "colab": {
          "base_uri": "https://localhost:8080/"
        },
        "id": "DAwYVCTJq8RN",
        "outputId": "b95df3bc-c04b-41e9-ca17-92c865908d3a"
      },
      "execution_count": 6,
      "outputs": [
        {
          "output_type": "execute_result",
          "data": {
            "text/plain": [
              "True"
            ]
          },
          "metadata": {},
          "execution_count": 6
        }
      ]
    },
    {
      "cell_type": "markdown",
      "source": [
        "F. Input and Output Operations"
      ],
      "metadata": {
        "id": "FkxJqCQ1q_UQ"
      }
    },
    {
      "cell_type": "code",
      "source": [
        "print(\"Hello World\")\n",
        "\n",
        "cnt = 1\n",
        "\n",
        "string = \"Hello World\"\n",
        "print(string, \", Current run count is:\", cnt)\n",
        "cnt += 1\n",
        "\n",
        "print(f\"{string}, Current count is: {cnt}\")\n",
        "\n",
        "sem_grade = 82.243564657461234\n",
        "name = \"\"\n",
        "print(\"Hello {}, your semestral grade is: {}\".format(name, sem_grade))\n",
        "\n",
        "w_pg, w_mg, w_fg = 0.3, 0.3, 0.4\n",
        "print(\"The weights of your semestral grades are:\\\n",
        "\\n\\t{:.2%} for Prelims\\\n",
        "\\n\\t{:.2%} for Midterms, and\\\n",
        "\\n\\t{:.2%} for Finals.\".format(w_pg, w_mg, w_fg))\n",
        "\n",
        "x = input(\"enter a number: \")\n",
        "x\n",
        "\n",
        "name = input(\"Kimi no nawa: \")\n",
        "pg = input(\"Enter prelim grade: \")\n",
        "mg = input(\"Enter midterm grade: \")\n",
        "fg = input(\"Enter finals grade: \")\n",
        "sem_grade = None\n",
        "print(\"Hello {}, your semestral grade is: {}\".format(name, sem_grade))"
      ],
      "metadata": {
        "colab": {
          "base_uri": "https://localhost:8080/"
        },
        "id": "dDTolVJgq-kS",
        "outputId": "07041beb-b1c0-4d7d-9871-07c85ab3ddcc"
      },
      "execution_count": 8,
      "outputs": [
        {
          "output_type": "stream",
          "name": "stdout",
          "text": [
            "Hello World\n",
            "Hello World , Current run count is: 1\n",
            "Hello World, Current count is: 2\n",
            "Hello , your semestral grade is: 82.24356465746123\n",
            "The weights of your semestral grades are:\n",
            "\t30.00% for Prelims\n",
            "\t30.00% for Midterms, and\n",
            "\t40.00% for Finals.\n",
            "enter a number: 1\n",
            "Kimi no nawa: Maione\n",
            "Enter prelim grade: 25%\n",
            "Enter midterm grade: 20%\n",
            "Enter finals grade: 30%\n",
            "Hello Maione, your semestral grade is: None\n"
          ]
        }
      ]
    },
    {
      "cell_type": "markdown",
      "source": [
        "G. Looping Statements"
      ],
      "metadata": {
        "id": "65U-AzZarx5l"
      }
    },
    {
      "cell_type": "code",
      "source": [
        "## while loops\n",
        "i, j = 0, 10\n",
        "while(i<=j):\n",
        "    print(f\"{i}\\t|\\t{j}\")\n",
        "    i+=1\n",
        "\n",
        "# for(int i=0; i<10; i++){\n",
        "# printf(i)\n",
        "# }\n",
        "\n",
        "i=0\n",
        "for i in range(10):\n",
        "    print(i)\n"
      ],
      "metadata": {
        "colab": {
          "base_uri": "https://localhost:8080/"
        },
        "id": "Op_XqA1isTDp",
        "outputId": "f1281860-7428-41c8-c15d-05cf2e38a530"
      },
      "execution_count": 9,
      "outputs": [
        {
          "output_type": "stream",
          "name": "stdout",
          "text": [
            "0\t|\t10\n",
            "1\t|\t10\n",
            "2\t|\t10\n",
            "3\t|\t10\n",
            "4\t|\t10\n",
            "5\t|\t10\n",
            "6\t|\t10\n",
            "7\t|\t10\n",
            "8\t|\t10\n",
            "9\t|\t10\n",
            "10\t|\t10\n",
            "0\n",
            "1\n",
            "2\n",
            "3\n",
            "4\n",
            "5\n",
            "6\n",
            "7\n",
            "8\n",
            "9\n"
          ]
        }
      ]
    },
    {
      "cell_type": "markdown",
      "source": [
        "H. Flow Control"
      ],
      "metadata": {
        "id": "P0ZfxPqfs9hF"
      }
    },
    {
      "cell_type": "code",
      "source": [
        "###Condition Statements\n",
        "numeral1, numeral2 = 12, 12\n",
        "if(numeral1 == numeral2):\n",
        "     print(\"Yey\")\n",
        "elif(numeral1>numeral2):\n",
        "     print(\"Hoho\")\n",
        "else:\n",
        "     print(\"Aww\")\n",
        "print(\"Hip hip\")\n"
      ],
      "metadata": {
        "colab": {
          "base_uri": "https://localhost:8080/"
        },
        "id": "jbGdjXmitB8F",
        "outputId": "3a611bf9-2465-4a4c-d6cd-0666eeaeb8fa"
      },
      "execution_count": 10,
      "outputs": [
        {
          "output_type": "stream",
          "name": "stdout",
          "text": [
            "Yey\n",
            "Hip hip\n"
          ]
        }
      ]
    },
    {
      "cell_type": "markdown",
      "source": [
        "I. Functions"
      ],
      "metadata": {
        "id": "-x6DuN1FtJVB"
      }
    },
    {
      "cell_type": "code",
      "source": [
        "# void DeleteUser(int userid){\n",
        "#     delete(userid);\n",
        "# }\n",
        "\n",
        "def delete_user (userid):\n",
        "     print(\"Successfully deleted user: {}\".format(userid))\n",
        "\n",
        "def delete_all_users ():\n",
        "     print(\"Successfully deleted all users\")\n"
      ],
      "metadata": {
        "id": "KLKUO-mHtMFm"
      },
      "execution_count": 12,
      "outputs": []
    }
  ]
}